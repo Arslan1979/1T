{
 "cells": [
  {
   "cell_type": "code",
   "execution_count": 5,
   "metadata": {},
   "outputs": [
    {
     "name": "stdout",
     "output_type": "stream",
     "text": [
      "0\n",
      "1\n",
      "1\n",
      "2\n",
      "3\n",
      "5\n",
      "8\n",
      "13\n",
      "21\n",
      "None\n"
     ]
    }
   ],
   "source": [
    "# 1.\n",
    "# Написать программу, которая будет выводить на экран числа Фибоначчи до заданного числа.\n",
    "\n",
    "def fibonachi(num):\n",
    "    a = 0\n",
    "    b = 1\n",
    "    print(a)\n",
    "    print(b)\n",
    "    c = a + b\n",
    "    while c <= num:\n",
    "        print(c)\n",
    "        a = b\n",
    "        b = c\n",
    "        c = a + b\n",
    "\n",
    "print(fibonachi(22))"
   ]
  },
  {
   "cell_type": "code",
   "execution_count": null,
   "metadata": {},
   "outputs": [],
   "source": [
    "# 1.\n",
    "# Напишите программу, которая на вход принимает список чисел и возвращает только уникальные значения из этого списка.\n"
   ]
  },
  {
   "cell_type": "code",
   "execution_count": null,
   "metadata": {},
   "outputs": [],
   "source": [
    "# 2.\n",
    "# Напишите программу, которая переводит температуру в градусах Фаренгейта в градусы Цельсия.\n"
   ]
  },
  {
   "cell_type": "code",
   "execution_count": null,
   "metadata": {},
   "outputs": [],
   "source": [
    "# 4.\n",
    "# Напишите программу, которая проверяет, является ли строка палиндромом без использования стандартных методов.\n"
   ]
  }
 ],
 "metadata": {
  "kernelspec": {
   "display_name": "Python 3",
   "language": "python",
   "name": "python3"
  },
  "language_info": {
   "codemirror_mode": {
    "name": "ipython",
    "version": 3
   },
   "file_extension": ".py",
   "mimetype": "text/x-python",
   "name": "python",
   "nbconvert_exporter": "python",
   "pygments_lexer": "ipython3",
   "version": "3.10.11"
  }
 },
 "nbformat": 4,
 "nbformat_minor": 2
}
