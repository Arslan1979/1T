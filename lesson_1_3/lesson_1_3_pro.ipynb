{
 "cells": [
  {
   "cell_type": "code",
   "execution_count": 9,
   "metadata": {},
   "outputs": [
    {
     "name": "stdout",
     "output_type": "stream",
     "text": [
      "0\n",
      "1\n",
      "1\n",
      "2\n",
      "3\n",
      "5\n",
      "8\n",
      "13\n",
      "21\n",
      "None\n"
     ]
    }
   ],
   "source": [
    "# 1.\n",
    "# Написать программу, которая будет выводить на экран числа Фибоначчи до заданного числа.\n",
    "\n",
    "def fibonachi(num):\n",
    "    a = 0\n",
    "    b = 1\n",
    "    print(a)\n",
    "    while b <= num:\n",
    "        print(b)\n",
    "        c = a + b\n",
    "        a = b\n",
    "        b = c\n",
    "\n",
    "print(fibonachi(21))"
   ]
  },
  {
   "cell_type": "code",
   "execution_count": 17,
   "metadata": {},
   "outputs": [
    {
     "name": "stdout",
     "output_type": "stream",
     "text": [
      "dict_keys([1, 3, 5, 6, 9])\n",
      "None\n"
     ]
    }
   ],
   "source": [
    "# 2.\n",
    "# Напишите программу, которая на вход принимает список чисел и возвращает только уникальные значения из этого списка.\n",
    "\n",
    "def unique(lst):\n",
    "    unique_lst = {}\n",
    "    for i in lst:\n",
    "        unique_lst[i] = lst.count(i)\n",
    "    print(unique_lst.keys())\n",
    "\n",
    "new_lst = [1,3,1,5,6,9,5]\n",
    "print(unique(new_lst))"
   ]
  },
  {
   "cell_type": "code",
   "execution_count": 20,
   "metadata": {},
   "outputs": [
    {
     "name": "stdout",
     "output_type": "stream",
     "text": [
      "37.77777777777778\n"
     ]
    }
   ],
   "source": [
    "# 3.\n",
    "# Напишите программу, которая переводит температуру в градусах Фаренгейта в градусы Цельсия.\n",
    "\n",
    "def celsium(far):\n",
    "    cel = (far - 32) * 5 / 9\n",
    "    return cel\n",
    "\n",
    "print(celsium(100))"
   ]
  },
  {
   "cell_type": "code",
   "execution_count": 21,
   "metadata": {},
   "outputs": [
    {
     "name": "stdout",
     "output_type": "stream",
     "text": [
      "True\n",
      "False\n"
     ]
    }
   ],
   "source": [
    "# 4.\n",
    "# Напишите программу, которая проверяет, является ли строка палиндромом без использования стандартных методов.\n",
    "\n",
    "def palindrom(word):\n",
    "    drow = word[::-1]\n",
    "    if word == drow:\n",
    "        return True\n",
    "    else:\n",
    "        return False\n",
    "    \n",
    "print(palindrom(\"1234321\"))\n",
    "print(palindrom(\"12987321\"))"
   ]
  }
 ],
 "metadata": {
  "kernelspec": {
   "display_name": "Python 3",
   "language": "python",
   "name": "python3"
  },
  "language_info": {
   "codemirror_mode": {
    "name": "ipython",
    "version": 3
   },
   "file_extension": ".py",
   "mimetype": "text/x-python",
   "name": "python",
   "nbconvert_exporter": "python",
   "pygments_lexer": "ipython3",
   "version": "3.10.11"
  }
 },
 "nbformat": 4,
 "nbformat_minor": 2
}
