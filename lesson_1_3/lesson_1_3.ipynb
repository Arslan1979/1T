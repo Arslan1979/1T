{
 "cells": [
  {
   "cell_type": "code",
   "execution_count": 2,
   "metadata": {},
   "outputs": [
    {
     "name": "stdout",
     "output_type": "stream",
     "text": [
      "Площадь квадрата =  625\n",
      "Периметр квадрата =  100\n"
     ]
    }
   ],
   "source": [
    "# 1.\n",
    "# Напишите программу, которая будет выводить на экран площадь квадрата и его периметр. Сторона квадрата будет равна 25.\n",
    "\n",
    "side = 25\n",
    "s = 25**2\n",
    "p = 25*4\n",
    "print(\"Площадь квадрата = \", s)\n",
    "print(\"Периметр квадрата = \", p)"
   ]
  },
  {
   "cell_type": "code",
   "execution_count": 7,
   "metadata": {},
   "outputs": [
    {
     "name": "stdout",
     "output_type": "stream",
     "text": [
      "29\n"
     ]
    }
   ],
   "source": [
    "# 2.\n",
    "# Напишите функцию, которая будет принимать два числа и считать сумму квадратов этих двух чисел, \n",
    "# запишите своё вычисление в переменную squared. \n",
    "# (Подсказка: Помните, чтобы записать результат функции в переменную, \n",
    "# она должна этот результат внутри себя возвращать! Return :slight_smile: ). \n",
    "\n",
    "def square_sum(a, b):\n",
    "    return a**2 + b**2\n",
    "\n",
    "squared = square_sum(2, 5)\n",
    "print(squared)"
   ]
  },
  {
   "cell_type": "code",
   "execution_count": 1,
   "metadata": {},
   "outputs": [
    {
     "name": "stdout",
     "output_type": "stream",
     "text": [
      "['female', 'female', 'male', 'male', 'female', 'male', 'male']\n"
     ]
    }
   ],
   "source": [
    "# 3.\n",
    "# Напишите функцию, которая будет принимать на вход список  \n",
    "# [“male“,“male“,“female“,“male“,“male“,“female“,”female“] и возвращать его в обратном порядке. \n",
    "# Запишите список в переменную new_list. Подсказка: Вам поможет обратная индексация к спискам ! [::-1]. \n",
    "\n",
    "def reverse_func(lst):\n",
    "    new_lst = lst[::-1]\n",
    "    return new_lst\n",
    "\n",
    "old_list = [\"male\",\"male\",\"female\",\"male\",\"male\",\"female\",\"female\"]\n",
    "new_list = reverse_func(old_list)\n",
    "print(new_list)"
   ]
  },
  {
   "cell_type": "code",
   "execution_count": null,
   "metadata": {},
   "outputs": [],
   "source": [
    "# 4.\n",
    "# Напишите функцию, которая будет принимать на вход список (new_list) и идти по нему в цикле. \n",
    "# На выходе функция должна вывести на экран: Кол-во мужчин 4, Кол-во женщин 3.\n"
   ]
  },
  {
   "cell_type": "code",
   "execution_count": null,
   "metadata": {},
   "outputs": [],
   "source": [
    "# 5.\n",
    "# Напишите функцию, которая будет принимать строку (Например: “female”),\n",
    "# а возвращать словарь где ключи — это символы строки, а значения кол-во символов в строке. \n"
   ]
  },
  {
   "cell_type": "code",
   "execution_count": null,
   "metadata": {},
   "outputs": [],
   "source": [
    "# 6.\n",
    "# Воспользуйтесь функцией range в Python и выведите на экран сумму квадратов от 1 до 100 (включительно). \n"
   ]
  },
  {
   "cell_type": "code",
   "execution_count": null,
   "metadata": {},
   "outputs": [],
   "source": [
    "# 7.\n",
    "# Укажите какой метод добавит значение в конец списка. Приведите пример.\n"
   ]
  },
  {
   "cell_type": "code",
   "execution_count": null,
   "metadata": {},
   "outputs": [],
   "source": [
    "# 8.\n",
    "# Как объединить два списка \"a\" и \"b\" в один новый список \"c\"? Приведите пример.\n"
   ]
  },
  {
   "cell_type": "code",
   "execution_count": null,
   "metadata": {},
   "outputs": [],
   "source": [
    "# 9.\n",
    "# Укажите какой метод посчитает количество значений в списке. Приведите пример.\n"
   ]
  },
  {
   "cell_type": "code",
   "execution_count": null,
   "metadata": {},
   "outputs": [],
   "source": [
    "# 10.\n",
    "# Исправьте следующий код, так чтобы он отрабатывал правильно:\n",
    "# x = 2**4\n",
    "# y = 4**2\n",
    "# if x < y:\n",
    "# print(\"x меньше y\") \n",
    "# else: \n",
    "# print(\"x больше, либо равен y\")\n"
   ]
  }
 ],
 "metadata": {
  "kernelspec": {
   "display_name": "Python 3",
   "language": "python",
   "name": "python3"
  },
  "language_info": {
   "codemirror_mode": {
    "name": "ipython",
    "version": 3
   },
   "file_extension": ".py",
   "mimetype": "text/x-python",
   "name": "python",
   "nbconvert_exporter": "python",
   "pygments_lexer": "ipython3",
   "version": "3.10.11"
  }
 },
 "nbformat": 4,
 "nbformat_minor": 2
}
