{
 "cells": [
  {
   "cell_type": "markdown",
   "id": "def3f512-010b-429c-926a-3a6bfb624e97",
   "metadata": {},
   "source": [
    "# Парсинг с помощью BeautifulSoup"
   ]
  },
  {
   "cell_type": "markdown",
   "id": "451d5487-2526-4666-b067-25900579db42",
   "metadata": {},
   "source": [
    "Beautiful Soup - это библиотека для Python, которая позволяет парсить (анализировать) HTML и XML документы. Она предоставляет удобный способ искать, навигировать, и модифицировать дерево DOM (Document Object Model), представляющее HTML/XML документ."
   ]
  },
  {
   "cell_type": "markdown",
   "id": "a42df1cd-63c3-4698-81b0-4a3e0b3733d6",
   "metadata": {},
   "source": [
    "# Задание"
   ]
  },
  {
   "cell_type": "markdown",
   "id": "9843b013-346b-4b59-914b-a59fd34a1f2c",
   "metadata": {},
   "source": [
    "Вам необходимо собрать датасет, спарсив данные из этого сайта:\n",
    "\n",
    "https://books.toscrape.com/\n",
    "\n",
    "Всего на сайте 1000 книг. То есть длина датасета должна равняться количеству книг.\n",
    " \n",
    "Итоговая таблица должна содержать следующие столбцы:\n",
    "\n",
    "| Название столбца | Описание | \n",
    "|--|--|\n",
    "|id| Идентификатор книги |\n",
    "|book_name| Название книги |\n",
    "|price| Цена в £ |\n",
    "|stock| Наличие книги. 1 или 0|\n",
    "|url| Ссылка на книгу |\n",
    "\n",
    "**Примечание по столбцам:**\n",
    "- `id` - заполняется разработчиком датасета. Первая спарсенная книга имеет `id` = `0`.\n",
    "- `url` - должна содержать полную ссылку. Не только конец ссылки, указанный на сайте. То есть по данному url можно перейти одним кликом."
   ]
  },
  {
   "cell_type": "markdown",
   "id": "31bb859f-4867-4ccf-bbf0-358d2ebf1a1a",
   "metadata": {
    "tags": []
   },
   "source": [
    "## Импорт библиотек"
   ]
  },
  {
   "cell_type": "code",
   "execution_count": null,
   "id": "cb4f0513-16dd-449b-aaa2-a8b58cca5d54",
   "metadata": {},
   "outputs": [],
   "source": [
    "# ваш код здесь"
   ]
  },
  {
   "cell_type": "markdown",
   "id": "dc6344fb-c068-4322-a1a8-f77ce86ca7e1",
   "metadata": {},
   "source": [
    "## Cоздание датасета и парсинг данных"
   ]
  },
  {
   "cell_type": "code",
   "execution_count": null,
   "id": "6cb4b6db-c211-4a7f-bd32-1592e68adeb0",
   "metadata": {},
   "outputs": [],
   "source": [
    "# ваш код здесь"
   ]
  },
  {
   "cell_type": "markdown",
   "id": "3af185d3-6aed-4fbc-a09e-a7f00e5efb68",
   "metadata": {
    "tags": []
   },
   "source": [
    "## Итоговый датасет"
   ]
  },
  {
   "cell_type": "code",
   "execution_count": null,
   "id": "b52c1b5b-3064-45a6-8bcf-d6104eb8e063",
   "metadata": {
    "tags": []
   },
   "outputs": [],
   "source": [
    "df.shape"
   ]
  },
  {
   "cell_type": "code",
   "execution_count": null,
   "id": "175a11d0-9208-4f8f-ad3e-113f696bea4f",
   "metadata": {
    "tags": []
   },
   "outputs": [],
   "source": [
    "display(\n",
    "    df.head(),\n",
    "    df.tail()\n",
    ")"
   ]
  },
  {
   "cell_type": "markdown",
   "id": "b6483175-e72a-44cd-a701-f571e91236c4",
   "metadata": {},
   "source": [
    "# ЗАДАНИЕ ПРО"
   ]
  },
  {
   "cell_type": "markdown",
   "id": "ccde500e-b0d1-47d7-bd6d-be83ae17909d",
   "metadata": {},
   "source": [
    "Так, мы спарсили данные о книгах. Но данные какие-то неполные. Часть названия стирается из-за отображения и нет ни полного названия книги, ни описания этой книги, ни жанра.\n",
    "\n",
    "Вам необходимо дополнить датасет, спарсив дополнительные данные из того же сайта:\n",
    "\n",
    "https://books.toscrape.com/\n",
    " \n",
    "Итоговая таблица должна содержать следующие столбцы:\n",
    "\n",
    "| Название столбца | Описание | \n",
    "|--|--|\n",
    "|id| Идентификатор книги |\n",
    "|book_name| Название книги - только полное название|\n",
    "|genre| жанр книги |\n",
    "|desc| описание |\n",
    "|price| Цена в £ |\n",
    "|stock| Наличие книги. 1 или 0|\n",
    "|url| Ссылка на книгу |\n",
    "| num_of_rev | количество отзывов|"
   ]
  },
  {
   "cell_type": "markdown",
   "id": "6e73f6ff-9b5b-4a3f-84d1-49bf7656fc9b",
   "metadata": {},
   "source": [
    "## Парсинг данных и обогащение датасета"
   ]
  },
  {
   "cell_type": "code",
   "execution_count": null,
   "id": "6bd68b8c-cfd4-4911-9772-cad2b7a24481",
   "metadata": {},
   "outputs": [],
   "source": [
    "# ваш код здесь"
   ]
  },
  {
   "cell_type": "markdown",
   "id": "95f4828b-c51c-41d5-9a65-3978f2ae5816",
   "metadata": {
    "tags": []
   },
   "source": [
    "## Итоговый датасет PRO"
   ]
  },
  {
   "cell_type": "code",
   "execution_count": null,
   "id": "86929986-26d8-4c77-938e-2315719b303f",
   "metadata": {
    "tags": []
   },
   "outputs": [],
   "source": [
    "df.shape"
   ]
  },
  {
   "cell_type": "code",
   "execution_count": null,
   "id": "ae76f7ea-bdf2-4434-9e2f-995f9f780601",
   "metadata": {
    "tags": []
   },
   "outputs": [],
   "source": [
    "display(\n",
    "    df.head(),\n",
    "    df.tail()\n",
    ")"
   ]
  },
  {
   "cell_type": "code",
   "execution_count": null,
   "id": "d8c4b37c-e680-497d-a6c0-3e7dd9bbc85a",
   "metadata": {},
   "outputs": [],
   "source": []
  }
 ],
 "metadata": {
  "kernelspec": {
   "display_name": "Python 3 (ipykernel)",
   "language": "python",
   "name": "python3"
  },
  "language_info": {
   "codemirror_mode": {
    "name": "ipython",
    "version": 3
   },
   "file_extension": ".py",
   "mimetype": "text/x-python",
   "name": "python",
   "nbconvert_exporter": "python",
   "pygments_lexer": "ipython3",
   "version": "3.10.11"
  }
 },
 "nbformat": 4,
 "nbformat_minor": 5
}
